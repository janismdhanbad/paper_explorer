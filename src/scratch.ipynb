{
 "cells": [
  {
   "cell_type": "code",
   "execution_count": 87,
   "metadata": {},
   "outputs": [],
   "source": [
    "import json"
   ]
  },
  {
   "cell_type": "code",
   "execution_count": 88,
   "metadata": {},
   "outputs": [],
   "source": [
    "with open(\"../data/papers_arxiv_v1.json\", 'r') as f:\n",
    "    data = json.load(f)"
   ]
  },
  {
   "cell_type": "code",
   "execution_count": 89,
   "metadata": {},
   "outputs": [
    {
     "data": {
      "text/plain": [
       "803"
      ]
     },
     "execution_count": 89,
     "metadata": {},
     "output_type": "execute_result"
    }
   ],
   "source": [
    "len(list(data.keys()))"
   ]
  },
  {
   "cell_type": "code",
   "execution_count": 14,
   "metadata": {},
   "outputs": [
    {
     "data": {
      "text/plain": [
       "dict_keys(['id', 'title', 'authors', 'abstract', 'arxiv_id', 'category'])"
      ]
     },
     "execution_count": 14,
     "metadata": {},
     "output_type": "execute_result"
    }
   ],
   "source": [
    "data[\"abs/2110.08861v2\"].keys()"
   ]
  },
  {
   "cell_type": "code",
   "execution_count": 24,
   "metadata": {},
   "outputs": [],
   "source": [
    "import urllib.parse\n",
    "from typing import Dict, List, Tuple, Union\n",
    "import requests"
   ]
  },
  {
   "cell_type": "code",
   "execution_count": 19,
   "metadata": {},
   "outputs": [],
   "source": [
    "ARXIV_LINK = \"http://export.arxiv.org/api/query?search_query=\""
   ]
  },
  {
   "cell_type": "code",
   "execution_count": 23,
   "metadata": {},
   "outputs": [],
   "source": [
    "def construct_arxiv_link(\n",
    "    paper_title: Union[str, None] = None,\n",
    "    author: Union[str, None] = None,\n",
    "    abstract: Union[str, None] = None,\n",
    "    start_idx: int = 0,\n",
    "    max_results: int = 100,\n",
    ") -> str:\n",
    "    \"\"\"The function that constructs Arxiv link to request the Arxiv API\n",
    "\n",
    "    Parameters\n",
    "    ----------\n",
    "    paper_title : Union[str, None], optional\n",
    "        Title of the paper as requested by the user, by default None\n",
    "    author : Union[str, None], optional\n",
    "        Author of the paper as requested by the user, by default None\n",
    "    abstract : Union[str, None], optional\n",
    "        A keyword from Abstract of the paper as requested by the user, by\n",
    "        default None\n",
    "    start_idx : int, optional\n",
    "        Start index for pagination, by default 0\n",
    "    max_results : int, optional\n",
    "        End index of the pagination, by default 100\n",
    "\n",
    "    Returns\n",
    "    -------\n",
    "    str\n",
    "        Arxiv link\n",
    "    \"\"\"\n",
    "    param_dict = {\n",
    "        \"ti\": paper_title,\n",
    "        \"au\": author,\n",
    "        \"abs\": abstract,\n",
    "    }\n",
    "    str_query = \"\"\n",
    "    query_list = []\n",
    "    for k, v in param_dict.items():\n",
    "        if v is not None:\n",
    "            value_str = \" \".join(v.split(\" \"))\n",
    "            value_str = f\"%22{value_str}%22\"\n",
    "            query_list.append(f\"{k}:{value_str}\")\n",
    "    str_query = \"+AND+\".join(query_list)\n",
    "    str_query = urllib.parse.quote_plus(str_query)\n",
    "\n",
    "    str_query += f\"&sortBy=relevance&sortOrder=descending&start={start_idx}&max_results={max_results}\"\n",
    "    return ARXIV_LINK + str_query"
   ]
  },
  {
   "cell_type": "code",
   "execution_count": 32,
   "metadata": {},
   "outputs": [],
   "source": [
    "link_arxiv = construct_arxiv_link(\n",
    "            paper_title=\"Attention is all you need\", author=None, abstract=None, max_results=100\n",
    "        )"
   ]
  },
  {
   "cell_type": "code",
   "execution_count": 33,
   "metadata": {},
   "outputs": [
    {
     "data": {
      "text/plain": [
       "'http://export.arxiv.org/api/query?search_query=ti%3A%2522Attention+is+all+you+need%2522&sortBy=relevance&sortOrder=descending&start=0&max_results=100'"
      ]
     },
     "execution_count": 33,
     "metadata": {},
     "output_type": "execute_result"
    }
   ],
   "source": [
    "link_arxiv"
   ]
  },
  {
   "cell_type": "code",
   "execution_count": 34,
   "metadata": {},
   "outputs": [],
   "source": [
    "response = requests.get(link_arxiv)"
   ]
  },
  {
   "cell_type": "code",
   "execution_count": 35,
   "metadata": {},
   "outputs": [],
   "source": [
    "import xml.etree.ElementTree as ET"
   ]
  },
  {
   "cell_type": "code",
   "execution_count": 36,
   "metadata": {},
   "outputs": [],
   "source": [
    "NAMESPACE = {\"n\": \"http://www.w3.org/2005/Atom\"}"
   ]
  },
  {
   "cell_type": "code",
   "execution_count": 37,
   "metadata": {},
   "outputs": [],
   "source": [
    "xmlstring = response.text\n",
    "tree = ET.ElementTree(ET.fromstring(xmlstring))\n",
    "tree_root = tree.getroot()\n",
    "all_papers = tree_root.findall(\"n:entry\", namespaces=NAMESPACE)"
   ]
  },
  {
   "cell_type": "code",
   "execution_count": 43,
   "metadata": {},
   "outputs": [],
   "source": [
    "paper = list(all_papers)[0]"
   ]
  },
  {
   "cell_type": "code",
   "execution_count": 75,
   "metadata": {},
   "outputs": [],
   "source": [
    "categories = paper.findall(\"n:category\", namespaces=NAMESPACE)"
   ]
  },
  {
   "cell_type": "code",
   "execution_count": 76,
   "metadata": {},
   "outputs": [
    {
     "data": {
      "text/plain": [
       "['cs.CL', 'cs.LG']"
      ]
     },
     "execution_count": 76,
     "metadata": {},
     "output_type": "execute_result"
    }
   ],
   "source": [
    "[f.get(\"term\") for f in categories]"
   ]
  },
  {
   "cell_type": "code",
   "execution_count": 74,
   "metadata": {},
   "outputs": [
    {
     "data": {
      "text/plain": [
       "<Element '{http://www.w3.org/2005/Atom}category' at 0x7f0adda8c470>"
      ]
     },
     "execution_count": 74,
     "metadata": {},
     "output_type": "execute_result"
    }
   ],
   "source": [
    "categories"
   ]
  },
  {
   "cell_type": "code",
   "execution_count": 70,
   "metadata": {},
   "outputs": [
    {
     "data": {
      "text/plain": [
       "'cs.CL'"
      ]
     },
     "execution_count": 70,
     "metadata": {},
     "output_type": "execute_result"
    }
   ],
   "source": [
    "c.get(\"term\")."
   ]
  },
  {
   "cell_type": "code",
   "execution_count": 61,
   "metadata": {},
   "outputs": [],
   "source": [
    "c = cats[0]"
   ]
  },
  {
   "cell_type": "code",
   "execution_count": 62,
   "metadata": {},
   "outputs": [],
   "source": [
    "c."
   ]
  },
  {
   "cell_type": "code",
   "execution_count": 47,
   "metadata": {},
   "outputs": [
    {
     "data": {
      "text/plain": [
       "[<Element '{http://www.w3.org/2005/Atom}id' at 0x7f0addaab6b0>,\n",
       " <Element '{http://www.w3.org/2005/Atom}updated' at 0x7f0addaab770>,\n",
       " <Element '{http://www.w3.org/2005/Atom}published' at 0x7f0addaab830>,\n",
       " <Element '{http://www.w3.org/2005/Atom}title' at 0x7f0addaab890>,\n",
       " <Element '{http://www.w3.org/2005/Atom}summary' at 0x7f0addaab950>,\n",
       " <Element '{http://www.w3.org/2005/Atom}author' at 0x7f0addaaba10>,\n",
       " <Element '{http://www.w3.org/2005/Atom}author' at 0x7f0addaabb90>,\n",
       " <Element '{http://www.w3.org/2005/Atom}author' at 0x7f0addaabc50>,\n",
       " <Element '{http://www.w3.org/2005/Atom}author' at 0x7f0addaabd10>,\n",
       " <Element '{http://www.w3.org/2005/Atom}author' at 0x7f0addaabdd0>,\n",
       " <Element '{http://www.w3.org/2005/Atom}author' at 0x7f0addaabe90>,\n",
       " <Element '{http://www.w3.org/2005/Atom}author' at 0x7f0addaabf50>,\n",
       " <Element '{http://www.w3.org/2005/Atom}author' at 0x7f0adda8c050>,\n",
       " <Element '{http://arxiv.org/schemas/atom}comment' at 0x7f0adda8c170>,\n",
       " <Element '{http://www.w3.org/2005/Atom}link' at 0x7f0adda8c230>,\n",
       " <Element '{http://www.w3.org/2005/Atom}link' at 0x7f0adda8c2f0>,\n",
       " <Element '{http://arxiv.org/schemas/atom}primary_category' at 0x7f0adda8c3b0>,\n",
       " <Element '{http://www.w3.org/2005/Atom}category' at 0x7f0adda8c470>,\n",
       " <Element '{http://www.w3.org/2005/Atom}category' at 0x7f0adda8c4d0>]"
      ]
     },
     "execution_count": 47,
     "metadata": {},
     "output_type": "execute_result"
    }
   ],
   "source": [
    "list(paper)"
   ]
  }
 ],
 "metadata": {
  "kernelspec": {
   "display_name": "Python 3.7.15 ('si507')",
   "language": "python",
   "name": "python3"
  },
  "language_info": {
   "codemirror_mode": {
    "name": "ipython",
    "version": 3
   },
   "file_extension": ".py",
   "mimetype": "text/x-python",
   "name": "python",
   "nbconvert_exporter": "python",
   "pygments_lexer": "ipython3",
   "version": "3.7.15"
  },
  "orig_nbformat": 4,
  "vscode": {
   "interpreter": {
    "hash": "ddd7320518ce5601792dbb0fe8a48e4eb03406ca8ae1602029fd684085d640f6"
   }
  }
 },
 "nbformat": 4,
 "nbformat_minor": 2
}
